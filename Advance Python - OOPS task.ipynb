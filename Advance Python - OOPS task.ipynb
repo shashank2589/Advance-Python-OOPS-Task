{
 "cells": [
  {
   "cell_type": "code",
   "execution_count": 1,
   "id": "8db298e0",
   "metadata": {},
   "outputs": [],
   "source": [
    "#Create your own class to perform list search operation"
   ]
  },
  {
   "cell_type": "code",
   "execution_count": 19,
   "id": "da19fef0",
   "metadata": {},
   "outputs": [
    {
     "name": "stdout",
     "output_type": "stream",
     "text": [
      "Found SSS at index 6.\n",
      "6 not found in list.\n"
     ]
    }
   ],
   "source": [
    "import logging\n",
    "\n",
    "logging.basicConfig(filename=\"list_search.log\",level=logging.INFO, format=\"%(asctime)s-%(levelname)s-%(message)s\")\n",
    "\n",
    "class ListSearcher:\n",
    "    def __init__(self, lst):\n",
    "        self.lst = lst\n",
    "\n",
    "    def search(self, element):\n",
    "        try:\n",
    "            index = self.lst.index(element)\n",
    "            logging.info(f\"Found {element} at index {index}.\")\n",
    "            print(f\"Found {element} at index {index}.\")\n",
    "            return index\n",
    "        except ValueError:\n",
    "            logging.warning(f\"{element} not found in list.\")\n",
    "            print(f\"{element} not found in list.\")\n",
    "            return None\n",
    "\n",
    "        \n",
    "lst = [1,2,3,4,5, \"sunny\", \"SSS\", 20.68, 12.36]\n",
    "searcher = ListSearcher(lst)\n",
    "searcher.search(\"SSS\")\n",
    "searcher.search(6)"
   ]
  },
  {
   "cell_type": "code",
   "execution_count": null,
   "id": "1f9c568a",
   "metadata": {},
   "outputs": [],
   "source": [
    "#Create a class for dictionary new element addition"
   ]
  },
  {
   "cell_type": "code",
   "execution_count": 18,
   "id": "688e7850",
   "metadata": {},
   "outputs": [
    {
     "name": "stdout",
     "output_type": "stream",
     "text": [
      "Added key4: [1, 2, 3, 4, 5] to the dictionary.\n",
      "{'key1': 256, 'key2': 123, 'key3': 456, 'key4': [1, 2, 3, 4, 5]}\n",
      "Failed to add [125, 1257]: 789 to the dictionary. Error: unhashable type: 'list'\n"
     ]
    }
   ],
   "source": [
    "import logging\n",
    "\n",
    "logging.basicConfig(filename=\"dict_add.log\",level=logging.INFO, format=\"%(asctime)s-%(levelname)s-%(message)s\")\n",
    "\n",
    "class DictAdder:\n",
    "    def __init__(self, dictionary):\n",
    "        self.dictionary = dictionary\n",
    "\n",
    "    def add_element(self, key, value):\n",
    "        try:\n",
    "            self.dictionary[key] = value\n",
    "            logging.info(f\"Added {key}: {value} to the dictionary.\")\n",
    "            print((f\"Added {key}: {value} to the dictionary.\"))\n",
    "            print(self.dictionary)\n",
    "        except Exception as e:\n",
    "            logging.error(f\"Failed to add {key}: {value} to the dictionary. Error: {e}\")\n",
    "            print(f\"Failed to add {key}: {value} to the dictionary. Error: {e}\")\n",
    "            \n",
    "addition = DictAdder({\"key1\": 256, \"key2\": 123, \"key3\": 456})\n",
    "addition.add_element(\"key4\", [1,2,3,4,5])\n",
    "addition.add_element([125, 1257], 789)\n"
   ]
  },
  {
   "cell_type": "code",
   "execution_count": 20,
   "id": "f9538e28",
   "metadata": {},
   "outputs": [],
   "source": [
    "#Create a class for tuple data extraction operation"
   ]
  },
  {
   "cell_type": "code",
   "execution_count": 6,
   "id": "7cabce8d",
   "metadata": {},
   "outputs": [
    {
     "name": "stdout",
     "output_type": "stream",
     "text": [
      "Extracted element at index 5: nine\n",
      "Index 15 is out of range for tuple of length 14\n",
      "Failed to extract element at index 2nd. Error: tuple indices must be integers or slices, not str\n"
     ]
    }
   ],
   "source": [
    "import logging\n",
    "\n",
    "logging.basicConfig(filename=\"extract_tup.log\",level=logging.INFO, format=\"%(asctime)s-%(levelname)s-%(message)s\")\n",
    "\n",
    "class TupleExtractor:\n",
    "    def __init__(self, tup):\n",
    "        self.tup = tup\n",
    "\n",
    "    def get_element(self, index):\n",
    "        try:\n",
    "            element = self.tup[index]\n",
    "            logging.info(f\"Extracted element at index {index}: {element}\")\n",
    "            print(f\"Extracted element at index {index}: {element}\")\n",
    "            return element\n",
    "        except IndexError:\n",
    "            logging.warning(f\"Index {index} is out of range for tuple of length {len(self.tup)}\")\n",
    "            print(f\"Index {index} is out of range for tuple of length {len(self.tup)}\")\n",
    "            return None\n",
    "        except Exception as e:\n",
    "            logging.error(f\"Failed to extract element at index {index}. Error: {e}\")\n",
    "            print(f\"Failed to extract element at index {index}. Error: {e}\")\n",
    "            return None\n",
    "        \n",
    "extractor = TupleExtractor((9, 4, 6, 8, 7, \"nine\", \"six\", 6, 7, 9, 1, 2,\"one\", 4))\n",
    "extractor.get_element(5)\n",
    "extractor.get_element(15)\n",
    "extractor.get_element('2nd')\n"
   ]
  },
  {
   "cell_type": "code",
   "execution_count": 7,
   "id": "56377407",
   "metadata": {},
   "outputs": [],
   "source": [
    "#Create a class to implement all insert, update and delete operation for MYSQL"
   ]
  },
  {
   "cell_type": "code",
   "execution_count": 1,
   "id": "1f8c8977",
   "metadata": {},
   "outputs": [],
   "source": [
    "import mysql.connector\n",
    "import logging\n",
    "\n",
    "logging.basicConfig(filename=\"mysql.log\",level=logging.INFO, format=\"%(asctime)s-%(levelname)s-%(message)s\")\n",
    "\n",
    "class MySQLDatabase:\n",
    "    def __init__(self, host, user, password, database):\n",
    "        self.host = host\n",
    "        self.user = user\n",
    "        self.password = password\n",
    "        self.database = database\n",
    "        try:\n",
    "            self.connection = mysql.connector.connect(\n",
    "            host=self.host,\n",
    "            user=self.user,\n",
    "            password=self.password,\n",
    "            database=self.database\n",
    "        )\n",
    "            logging.info(\"Connection eastablised\")\n",
    "        except Exception as e:\n",
    "            logging.error(f\"Failed to connect to MySQL database: {e}\")\n",
    "            print(f\"Failed to connect to MySQL database: {e}\")\n",
    "            \n",
    "    #insert data in tuple format\n",
    "    def insert(self, table_name, data):\n",
    "        cursor = self.connection.cursor()\n",
    "        query = f\"INSERT INTO {table_name} VALUES {data}\"\n",
    "        try:\n",
    "            cursor.execute(query)\n",
    "            rowscount = cursor.rowcount\n",
    "            self.connection.commit()\n",
    "            logging.info(f\"Inserted {rowscount} document sucessfully\")\n",
    "            cursor.close()\n",
    "            logging.info(\"Disconnected from MYSQL.\")\n",
    "        except Exception as e:\n",
    "            logging.error(f\"Failed to insert row into table: {e}\")\n",
    "            print(f\"Failed to insert row into table: {e}\")\n",
    "    \n",
    "    def update(self, table_name, new_value, condition):\n",
    "        cursor = self.connection.cursor()\n",
    "        query = f\"UPDATE {table_name} SET {new_value} WHERE {condition}\"\n",
    "        try:\n",
    "            cursor.execute(query)\n",
    "            rowscount = cursor.rowcount\n",
    "            self.connection.commit()\n",
    "            logging.info(f\"Updated {rowscount} document sucessfully\")\n",
    "            cursor.close()\n",
    "            logging.info(\"Disconnected from MYSQL.\")\n",
    "        except Exception as e:\n",
    "            logging.error(f\"Failed to update row in a table: {e}\")\n",
    "            print(f\"Failed to update row in a table: {e}\")\n",
    "\n",
    "    def delete(self, table_name, condition):\n",
    "        cursor = self.connection.cursor()\n",
    "        query = f\"DELETE FROM {table_name} WHERE {condition}\"\n",
    "        try:\n",
    "            cursor.execute(query)\n",
    "            rowscount = cursor.rowcount\n",
    "            self.connection.commit()\n",
    "            logging.info(f\"Deleted {rowscount} document sucessfully\")\n",
    "            cursor.close()\n",
    "            logging.info(\"Disconnected from MYSQL.\")\n",
    "        except Exception as e:\n",
    "            logging.error(f\"Failed to delete row(s) from table: {e}\")\n",
    "            print(f\"Failed to delete row(s) from table: {e}\")\n",
    "           "
   ]
  },
  {
   "cell_type": "code",
   "execution_count": 8,
   "id": "8e45c70e",
   "metadata": {},
   "outputs": [],
   "source": [
    "#Create a class to implement all insert, update delete operation in MongoDB"
   ]
  },
  {
   "cell_type": "code",
   "execution_count": 65,
   "id": "c0afcd8c",
   "metadata": {},
   "outputs": [],
   "source": [
    "import logging\n",
    "import pymongo\n",
    "\n",
    "logging.basicConfig(filename=\"import.log\",level=logging.INFO, format=\"%(asctime)s-%(levelname)s-%(message)s\")\n",
    "\n",
    "class Mongo:\n",
    "    def __init__(self, db_name, collection_name):\n",
    "        self.db_name = db_name\n",
    "        self.collection_name = collection_name\n",
    "        self.client = None\n",
    "        self.db = None\n",
    "        self.collection = None\n",
    "\n",
    "    def connect(self):\n",
    "        try:\n",
    "            # Connect to MongoDB\n",
    "            #Note: enter your connection URL\n",
    "            self.client = pymongo.MongoClient(\"mongodb URL\")\n",
    "            self.db = self.client[self.db_name]\n",
    "            self.collection = self.db[self.collection_name]\n",
    "            logging.info(\"Connection eastablised\")\n",
    "        except Exception as e:\n",
    "            logging.error(\"An error occurred while connecting to MongoDB\")\n",
    "            \n",
    "    def disconnect(self):\n",
    "        try:\n",
    "            self.client.close()\n",
    "            logging.info(\"Disconnected from MongoDB.\")\n",
    "        except Exception as e:\n",
    "            logging.error(f\"An error occurred while disconnecting from MongoDB.{e}\")\n",
    "    \n",
    "    def insert_op(self, data):\n",
    "        try:\n",
    "            result = self.collection.insert_one(data)\n",
    "            logging.info(f\"Inserted document with ID {result.inserted_id}.\")\n",
    "        except Exception as e:\n",
    "            logging.error(f\"An error occurred while inserting document.{e}\")\n",
    "    \n",
    "    def update_op(self, query, update):\n",
    "        try:\n",
    "            result = self.collection.update_one(query, update)\n",
    "            logging.info(f\"Updated {result.modified_count} documents.\")\n",
    "        except Exception as e:\n",
    "            logging.error(f\"An error occurred while updating document. {e}\")\n",
    "    \n",
    "    def delete_op(self, query):\n",
    "        try:\n",
    "            result = self.collection.delete_one(query)\n",
    "            logging.info(f\"Deleted {result.deleted_count} documents.\")\n",
    "        except Exception as e:\n",
    "            logging.error(f\"An error occurred while deleting document.{e}\")\n",
    "            "
   ]
  },
  {
   "cell_type": "code",
   "execution_count": 66,
   "id": "1ab6c8cf",
   "metadata": {},
   "outputs": [],
   "source": [
    "con = Mongo(\"movies\", \"details\")\n",
    "con.connect()\n",
    "con.insert_op({\"movie_Name\": \"Avatar\", \"release_date\":\"16-Dec-2022\", \"Director\":\"James Cameron\"})\n",
    "con.disconnect()"
   ]
  },
  {
   "cell_type": "code",
   "execution_count": 67,
   "id": "c77741cd",
   "metadata": {},
   "outputs": [],
   "source": [
    "con = Mongo(\"movies\", \"details\")\n",
    "con.connect()\n",
    "con.update_op({\"movie_Name\": \"Avatar\"}, {\"$set\" : {\"release_date\":\"18-Dec-2022\"}})\n",
    "con.disconnect()"
   ]
  },
  {
   "cell_type": "code",
   "execution_count": 68,
   "id": "b2f2f18e",
   "metadata": {},
   "outputs": [],
   "source": [
    "con = Mongo(\"movies\", \"details\")\n",
    "con.connect()\n",
    "con.delete_op({\"Director\": \"James Cameron\"})\n",
    "con.disconnect()"
   ]
  },
  {
   "cell_type": "code",
   "execution_count": 9,
   "id": "1866f20d",
   "metadata": {},
   "outputs": [],
   "source": [
    "#Create a class to perform append and delete operation in a file and inherit it in child class"
   ]
  },
  {
   "cell_type": "code",
   "execution_count": 5,
   "id": "98449547",
   "metadata": {},
   "outputs": [
    {
     "name": "stdout",
     "output_type": "stream",
     "text": [
      "Appended data to file sample.txt\n"
     ]
    }
   ],
   "source": [
    "import logging\n",
    "\n",
    "logging.basicConfig(filename=\"file_inherit.log\",level=logging.INFO, format=\"%(asctime)s-%(levelname)s-%(message)s\")\n",
    "\n",
    "class FileEditor:\n",
    "    def __init__(self, filename):\n",
    "        self.filename = filename\n",
    "\n",
    "    def append_data(self, data):\n",
    "        try:\n",
    "            #open file in append \"a\" mode\n",
    "            with open(self.filename, 'a') as f:\n",
    "                f.write(data)\n",
    "                logging.info(f\"Appended data to file {self.filename}\")\n",
    "                print(f\"Appended data to file {self.filename}\")\n",
    "        except Exception as e:\n",
    "            logging.error(f\"Failed to append data to file {self.filename}. Error: {e}\")\n",
    "            print(f\"Failed to append data to file {self.filename}. Error: {e}\")\n",
    "\n",
    "    def delete_data(self):\n",
    "        try:\n",
    "            with open(self.filename, 'w') as f:\n",
    "                f.write('')\n",
    "                logging.info(f\"Deleted data from file {self.filename}\")\n",
    "                print(f\"Deleted data from file {self.filename}\")\n",
    "        except Exception as e:\n",
    "            logging.error(f\"Failed to delete data from file {self.filename}. Error: {e}\")\n",
    "            print(f\"Failed to delete data from file {self.filename}. Error: {e}\")\n",
    "            \n",
    "class ChildFileEditor(FileEditor):\n",
    "    def __init__(self, filename):\n",
    "        super().__init__(filename)\n",
    "        \n",
    "\n",
    "editor = ChildFileEditor(\"sample.txt\")\n",
    "editor.append_data(\"\"\"Hello, World!\n",
    "Hello, World!\n",
    "Hello, World!\n",
    "Hello, World!\n",
    "Hello, World!\n",
    "Hello, World!\n",
    "Hello, World!\n",
    "Hello, World!\n",
    "Hello, World!\n",
    "Hello, World!\"\"\")          \n"
   ]
  },
  {
   "cell_type": "code",
   "execution_count": 2,
   "id": "248e17fd",
   "metadata": {},
   "outputs": [
    {
     "name": "stdout",
     "output_type": "stream",
     "text": [
      "Deleted data from file sample.txt\n"
     ]
    }
   ],
   "source": [
    "editor.delete_data()"
   ]
  },
  {
   "cell_type": "code",
   "execution_count": 11,
   "id": "4d437e33",
   "metadata": {},
   "outputs": [],
   "source": [
    "#Create a class to import a data into file from mongoDB"
   ]
  },
  {
   "cell_type": "code",
   "execution_count": 5,
   "id": "a1a44734",
   "metadata": {},
   "outputs": [],
   "source": [
    "import logging\n",
    "import pymongo\n",
    "\n",
    "logging.basicConfig(filename=\"import.log\",level=logging.INFO, format=\"%(asctime)s-%(levelname)s-%(message)s\")\n",
    "\n",
    "class MongoDBImporter:\n",
    "    def __init__(self, db_name, collection_name, filename):\n",
    "        self.db_name = db_name\n",
    "        self.collection_name = collection_name\n",
    "        self.filename = filename\n",
    "\n",
    "    def import_data(self):\n",
    "        try:\n",
    "            # Connect to MongoDB\n",
    "            #Note: enter your connection URL\n",
    "            client = pymongo.MongoClient(\"mongodb URL\")\n",
    "            db = client[self.db_name]\n",
    "            collection = db[self.collection_name]\n",
    "            logging.info(\"Connection eastablised\")\n",
    "            \n",
    "            #make sure that documents in the MongoDB collection are dictionaries\n",
    "            data = []\n",
    "            for i in collection.find():\n",
    "                data.append(i)\n",
    "\n",
    "            with open(self.filename, 'w+') as f:\n",
    "                f.write(str(data))\n",
    "                logging.info(\"Data imported sucessfully from MongoDB to file\")\n",
    "                print(\"Data imported sucessfully from MongoDB to file\")\n",
    "\n",
    "        except Exception as e:\n",
    "            # Log error\n",
    "            logging.error(f\"An error occurred while importing data from MongoDB. error {e}\")           \n",
    "            \n",
    "\n",
    "#Enter your database name, collection name, file name\n",
    "#importer = MongoDBImporter(db_name, collection_name, filename)\n",
    "#importer.import_data()"
   ]
  },
  {
   "cell_type": "code",
   "execution_count": 12,
   "id": "cbb02a0b",
   "metadata": {},
   "outputs": [],
   "source": [
    "#Create a class to build a calculator functionality add, sub, mul, div, log, exponent, power  "
   ]
  },
  {
   "cell_type": "code",
   "execution_count": 1,
   "id": "b88b71ec",
   "metadata": {},
   "outputs": [],
   "source": [
    "import logging\n",
    "import math\n",
    "\n",
    "logging.basicConfig(filename=\"calculator.log\",level=logging.INFO, format=\"%(asctime)s-%(levelname)s-%(message)s\")\n",
    "\n",
    "class Calculator:\n",
    "    def __init__(self):\n",
    "        pass\n",
    "\n",
    "    def add(self, x, y):\n",
    "        try:\n",
    "            result = x + y\n",
    "            logging.info(f\"Added {x} and {y}. Result is {result}\")\n",
    "            return result\n",
    "        except Exception as e:\n",
    "            logging.error(f\"Failed to add {x} and {y}. Error: {e}\")\n",
    "\n",
    "    def subtract(self, x, y):\n",
    "        try:\n",
    "            result = x - y\n",
    "            logging.info(f\"Subtracted {y} from {x}. Result is {result}\")\n",
    "            return result\n",
    "        except Exception as e:\n",
    "            logging.error(f\"Failed to subtract {y} from {x}. Error: {e}\")\n",
    "\n",
    "    def multiply(self, x, y):\n",
    "        try:\n",
    "            result = x * y\n",
    "            logging.info(f\"Multiplied {x} and {y}. Result is {result}\")\n",
    "            return result\n",
    "        except Exception as e:\n",
    "            logging.error(f\"Failed to multiply {x} and {y}. Error: {e}\")\n",
    "\n",
    "    def divide(self, x, y):\n",
    "        try:\n",
    "            result = x / y\n",
    "            logging.info(f\"Divided {x} by {y}. Result is {result}\")\n",
    "            return result\n",
    "        except ZeroDivisionError as e:\n",
    "            logging.error(f\"Cannot divide by zero. Error: {e}\")\n",
    "        except Exception as e:\n",
    "            logging.error(f\"Failed to divide {x} by {y}. Error: {e}\")\n",
    "\n",
    "    def logarithm(self, x, base=10):\n",
    "        try:\n",
    "            result = math.log(x, base)\n",
    "            logging.info(f\"Calculated logarithm of {x} with base {base}. Result is {result}\")\n",
    "            return result\n",
    "        except ValueError as e:\n",
    "            logging.error(f\"Cannot calculate logarithm of {x} with base {base}. Error: {e}\")\n",
    "        except Exception as e:\n",
    "            logging.error(f\"Failed to calculate logarithm of {x} with base {base}. Error: {e}\")\n",
    "\n",
    "    def exponent(self, x):\n",
    "        try:\n",
    "            result = math.exp(x)\n",
    "            logging.info(f\"Calculated exponent of {x}. Result is {result}\")\n",
    "            return result\n",
    "        except Exception as e:\n",
    "            logging.error(f\"Failed to calculate exponent of {x}. Error: {e}\")\n",
    "\n",
    "    def power(self, x, y):\n",
    "        try:\n",
    "            result = x ** y\n",
    "            logging.info(f\"Calculated {x} raised to the power of {y}. Result is {result}\")\n",
    "            return result\n",
    "        except Exception as e:\n",
    "            logging.error(f\"Failed to calculate {x} raised to the power of {y}. Error: {e}\")\n"
   ]
  },
  {
   "cell_type": "code",
   "execution_count": 2,
   "id": "e93bcdce",
   "metadata": {},
   "outputs": [
    {
     "data": {
      "text/plain": [
       "18"
      ]
     },
     "execution_count": 2,
     "metadata": {},
     "output_type": "execute_result"
    }
   ],
   "source": [
    "calci = Calculator()\n",
    "\n",
    "#calci.add(2, 5)\n",
    "#calci.subtract(8, 3)\n",
    "calci.multiply(2, 9)\n",
    "#calci.divide(6, 3)\n",
    "#calci.logarithm(10)\n",
    "#calci.exponent(6)\n",
    "#calci.power(2, 3)\n"
   ]
  },
  {
   "cell_type": "code",
   "execution_count": 13,
   "id": "a6719c09",
   "metadata": {},
   "outputs": [],
   "source": [
    "#Create a class method to find a time and space complexity of any function"
   ]
  },
  {
   "cell_type": "code",
   "execution_count": 69,
   "id": "7bf72da1",
   "metadata": {},
   "outputs": [],
   "source": [
    "import time\n",
    "import sys\n",
    "import logging\n",
    "\n",
    "logging.basicConfig(filename=\"complexity.log\",level=logging.INFO, format=\"%(asctime)s-%(levelname)s-%(message)s\")\n",
    "\n",
    "class Complexity:\n",
    "    @staticmethod\n",
    "    def Analysis(func, *args, **kwargs):\n",
    "        \"\"\"\n",
    "        Analyze the time and space complexity of a function.\n",
    "\n",
    "        Args:\n",
    "            func: The function to analyze.\n",
    "            *args: Positional arguments to pass to the function.\n",
    "            **kwargs: Keyword arguments to pass to the function.\n",
    "\n",
    "        Returns:\n",
    "            A tuple containing the result, time complexity and space complexity of the function.\n",
    "        \"\"\"\n",
    "        # Start the timer\n",
    "        start_time = time.time()\n",
    "\n",
    "        # Call the function with the provided arguments\n",
    "        result = func(*args, **kwargs)\n",
    "\n",
    "        # Stop the timer and calculate the diff time\n",
    "        end_time = time.time()\n",
    "        diff_time = end_time - start_time\n",
    "\n",
    "        # Calculate the space complexity by measuring the size of the function space\n",
    "        space = sys.getsizeof(result)\n",
    "\n",
    "        # Log the results\n",
    "        logging.info(f\"Time complexity: ({diff_time})\")\n",
    "        logging.info(f\"Space complexity: ({space}) Bytes\")\n",
    "\n",
    "        # Return the results as a tuple\n",
    "        return result, diff_time, space\n"
   ]
  },
  {
   "cell_type": "code",
   "execution_count": 73,
   "id": "7e9ff346",
   "metadata": {},
   "outputs": [
    {
     "data": {
      "text/plain": [
       "('dlroW_olleH', 0.0, 60)"
      ]
     },
     "execution_count": 73,
     "metadata": {},
     "output_type": "execute_result"
    }
   ],
   "source": [
    "def reverse(n):\n",
    "    result = n[::-1]\n",
    "    return result\n",
    "\n",
    "Complexity.Analysis(reverse, \"Hello_World\")"
   ]
  },
  {
   "cell_type": "code",
   "execution_count": 6,
   "id": "ee2aa0b0",
   "metadata": {},
   "outputs": [],
   "source": [
    "#Create a class to do a bulk upload of a file in MYSQL"
   ]
  },
  {
   "cell_type": "code",
   "execution_count": 47,
   "id": "e96989e3",
   "metadata": {},
   "outputs": [],
   "source": [
    "import mysql.connector\n",
    "import logging\n",
    "import csv\n",
    "\n",
    "logging.basicConfig(filename=\"bulk.log\",level=logging.INFO, format=\"%(asctime)s-%(levelname)s-%(message)s\")\n",
    "\n",
    "class MySQLDatabase:\n",
    "    def __init__(self, host, user, password, database):\n",
    "        self.host = host\n",
    "        self.user = user\n",
    "        self.password = password\n",
    "        self.database = database\n",
    "        try:\n",
    "            self.connection = mysql.connector.connect(\n",
    "            host=self.host,\n",
    "            user=self.user,\n",
    "            password=self.password,\n",
    "            database=self.database\n",
    "        )\n",
    "            logging.info(\"Connection eastablised\")\n",
    "        except Exception as e:\n",
    "            logging.error(f\"Failed to connect to MySQL database: {e}\")\n",
    "            print(f\"Failed to connect to MySQL database: {e}\")\n",
    "            \n",
    "    def create_table(self, table_name, columns):\n",
    "        self.table_name = table_name\n",
    "        self.columns = columns\n",
    "        cursor = self.connection.cursor()\n",
    "        self.cursor = cursor\n",
    "        try:\n",
    "            self.cursor.execute(f\"CREATE TABLE if not exists {self.table_name}({self.columns})\")\n",
    "            self.connection.commit()\n",
    "            logging.info(\"Table has created\")\n",
    "            print(\"Table has created\")\n",
    "        except Exception as e:\n",
    "            logging.error(\"Exception occurred\", e)\n",
    "    \n",
    "    def insert_data(self,csv_file):\n",
    "        try:\n",
    "            with open(csv_file, \"r\") as f:\n",
    "                data  = csv.reader(f, delimiter = '\\n')\n",
    "                next(data)\n",
    "                for i in data:\n",
    "                    self.cursor.execute(f'insert into {self.database}.{self.table_name} values({str(i[0])})')\n",
    "            self.connection.commit()\n",
    "            logging.info(\"Bulk Upload is successful\")\n",
    "        except Exception as e:\n",
    "            print(e)\n",
    "            logging.error(\"Exception occurred\",e)\n",
    "            \n",
    "    def show_data(self):\n",
    "        try:\n",
    "            self.cursor.execute(f\"SELECT * from {self.table_name}\")\n",
    "            logging.info(\"Showing Data from table is successful\")\n",
    "            print(self.cursor.fetchall())\n",
    "            self.cursor.close()\n",
    "            logging.info(\"Disconnected from MYSQL.\")\n",
    "        except Exception as e:\n",
    "            logging.error(\"Exception occurred\", e)\n",
    "            "
   ]
  }
 ],
 "metadata": {
  "kernelspec": {
   "display_name": "Python 3 (ipykernel)",
   "language": "python",
   "name": "python3"
  },
  "language_info": {
   "codemirror_mode": {
    "name": "ipython",
    "version": 3
   },
   "file_extension": ".py",
   "mimetype": "text/x-python",
   "name": "python",
   "nbconvert_exporter": "python",
   "pygments_lexer": "ipython3",
   "version": "3.9.12"
  }
 },
 "nbformat": 4,
 "nbformat_minor": 5
}
